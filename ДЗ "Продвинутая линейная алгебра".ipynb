{
  "nbformat": 4,
  "nbformat_minor": 0,
  "metadata": {
    "colab": {
      "provenance": [],
      "authorship_tag": "ABX9TyPlAf1JNU/EIL9K4Jf67os6",
      "include_colab_link": true
    },
    "kernelspec": {
      "name": "python3",
      "display_name": "Python 3"
    },
    "language_info": {
      "name": "python"
    }
  },
  "cells": [
    {
      "cell_type": "markdown",
      "metadata": {
        "id": "view-in-github",
        "colab_type": "text"
      },
      "source": [
        "<a href=\"https://colab.research.google.com/github/polina-minaeva/advanced-linear-algebra/blob/main/%D0%94%D0%97%20%22%D0%9F%D1%80%D0%BE%D0%B4%D0%B2%D0%B8%D0%BD%D1%83%D1%82%D0%B0%D1%8F%20%D0%BB%D0%B8%D0%BD%D0%B5%D0%B9%D0%BD%D0%B0%D1%8F%20%D0%B0%D0%BB%D0%B3%D0%B5%D0%B1%D1%80%D0%B0%22.ipynb\" target=\"_parent\"><img src=\"https://colab.research.google.com/assets/colab-badge.svg\" alt=\"Open In Colab\"/></a>"
      ]
    },
    {
      "cell_type": "markdown",
      "source": [
        "Задание. Найдите спектральное разложение матрицы:"
      ],
      "metadata": {
        "id": "qmtrDC7kzd5F"
      }
    },
    {
      "cell_type": "code",
      "source": [
        "import numpy as np #импорт библиотеки\n",
        "m = np.array([[1, 2],\n",
        "              [2, 3]])"
      ],
      "metadata": {
        "id": "fP-bNNh-z4x2"
      },
      "execution_count": null,
      "outputs": []
    },
    {
      "cell_type": "code",
      "execution_count": null,
      "metadata": {
        "colab": {
          "base_uri": "https://localhost:8080/"
        },
        "id": "2vSz7mOuzY_i",
        "outputId": "3fa97bb8-c037-4e16-a3c4-3d808aeda8ae"
      },
      "outputs": [
        {
          "output_type": "execute_result",
          "data": {
            "text/plain": [
              "(array([-0.23606798,  4.23606798]),\n",
              " array([[-0.85065081,  0.52573111],\n",
              "        [ 0.52573111,  0.85065081]]))"
            ]
          },
          "metadata": {},
          "execution_count": 3
        }
      ],
      "source": [
        "ev, eW = np.linalg.eigh(m) #находим собственные значения и векторы симметричной матрицы\n",
        "ev, eW"
      ]
    },
    {
      "cell_type": "code",
      "source": [
        "L=np.diag(ev) #создаем диагональную матрицу из собственных значений\n",
        "L"
      ],
      "metadata": {
        "colab": {
          "base_uri": "https://localhost:8080/"
        },
        "id": "TGZjxWoU1pPd",
        "outputId": "7f8d5c06-0ace-47ca-cdb1-5832ffa36b3c"
      },
      "execution_count": null,
      "outputs": [
        {
          "output_type": "execute_result",
          "data": {
            "text/plain": [
              "array([[-0.23606798,  0.        ],\n",
              "       [ 0.        ,  4.23606798]])"
            ]
          },
          "metadata": {},
          "execution_count": 4
        }
      ]
    },
    {
      "cell_type": "code",
      "source": [
        "#теперь нужно получить две ортогональные матрицы, состоящие из собственных векторов\n",
        "\n",
        "m2 = eW.T\n",
        "m2"
      ],
      "metadata": {
        "colab": {
          "base_uri": "https://localhost:8080/"
        },
        "id": "JyzapU_VlqXq",
        "outputId": "61e72905-fdae-4016-9700-569330c38c02"
      },
      "execution_count": null,
      "outputs": [
        {
          "output_type": "execute_result",
          "data": {
            "text/plain": [
              "array([[-0.85065081,  0.52573111],\n",
              "       [ 0.52573111,  0.85065081]])"
            ]
          },
          "metadata": {},
          "execution_count": 5
        }
      ]
    },
    {
      "cell_type": "code",
      "source": [
        "m3 = m2.T\n",
        "m3"
      ],
      "metadata": {
        "colab": {
          "base_uri": "https://localhost:8080/"
        },
        "id": "l-TNFIJDmAjN",
        "outputId": "ed28146b-6b24-49a8-c5e1-276e7b7e3ae4"
      },
      "execution_count": null,
      "outputs": [
        {
          "output_type": "execute_result",
          "data": {
            "text/plain": [
              "array([[-0.85065081,  0.52573111],\n",
              "       [ 0.52573111,  0.85065081]])"
            ]
          },
          "metadata": {},
          "execution_count": 7
        }
      ]
    },
    {
      "cell_type": "code",
      "source": [
        "#убедимся, что матрицы ортогональны\n",
        "\n",
        "np.dot(m2, m3)"
      ],
      "metadata": {
        "colab": {
          "base_uri": "https://localhost:8080/"
        },
        "id": "4hKAzfnbmWNW",
        "outputId": "807f8447-6b63-4c57-a782-b6030e8fb514"
      },
      "execution_count": null,
      "outputs": [
        {
          "output_type": "execute_result",
          "data": {
            "text/plain": [
              "array([[ 1.0000000e+00, -1.2127222e-17],\n",
              "       [-1.2127222e-17,  1.0000000e+00]])"
            ]
          },
          "metadata": {},
          "execution_count": 8
        }
      ]
    },
    {
      "cell_type": "code",
      "source": [
        "np.dot(np.dot(m3, L), m2) #при умножении диагональной матрицы, матрицы из собственных векторов и матрицы, обратной ей, получаем исходную матрицу m"
      ],
      "metadata": {
        "colab": {
          "base_uri": "https://localhost:8080/"
        },
        "id": "vO4ZfNl01rp9",
        "outputId": "afba7f77-cbbb-4948-e2f2-cc518589d869"
      },
      "execution_count": null,
      "outputs": [
        {
          "output_type": "execute_result",
          "data": {
            "text/plain": [
              "array([[1., 2.],\n",
              "       [2., 3.]])"
            ]
          },
          "metadata": {},
          "execution_count": 9
        }
      ]
    }
  ]
}